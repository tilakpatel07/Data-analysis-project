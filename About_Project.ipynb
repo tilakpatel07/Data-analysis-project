{
 "cells": [
  {
   "cell_type": "markdown",
   "metadata": {},
   "source": [
    "Goal\n",
    "\n",
    "1. Investigate top paying roles and skills in the data science industry\n",
    "2. Using python to explore real dataset on job postings\n",
    "3. Use these insights to help find the best job oppurtunities"
   ]
  },
  {
   "cell_type": "markdown",
   "metadata": {},
   "source": []
  }
 ],
 "metadata": {
  "language_info": {
   "name": "python"
  }
 },
 "nbformat": 4,
 "nbformat_minor": 2
}
